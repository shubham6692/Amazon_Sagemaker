{
 "cells": [
  {
   "cell_type": "markdown",
   "id": "5f9e037a",
   "metadata": {},
   "source": [
    "# Steps:\n",
    "\n",
    "1. Import necessary libraries\n",
    "2. Creating S3 bucket\n",
    "3. mapping train and test data in S3\n",
    "4. mapping the path of the models in s3"
   ]
  },
  {
   "cell_type": "code",
   "execution_count": 2,
   "id": "5a89ff86",
   "metadata": {},
   "outputs": [],
   "source": [
    "import sagemaker # using builtin algorithm\n",
    "import boto3 # read from s3 bucket even from local if its public\n",
    "from sagemaker.amazon.amazon_estimator import get_image_uri\n",
    "from sagemaker.session import s3_input, Session"
   ]
  },
  {
   "cell_type": "code",
   "execution_count": 3,
   "id": "28864027",
   "metadata": {},
   "outputs": [
    {
     "name": "stdout",
     "output_type": "stream",
     "text": [
      "us-east-2\n"
     ]
    }
   ],
   "source": [
    "bucket_name=\"bankapplicationnnn\" # give any unique name for your bucket\n",
    "my_region=boto3.session.Session().region_name # set the region of the instance\n",
    "print(my_region)"
   ]
  },
  {
   "cell_type": "code",
   "execution_count": 30,
   "id": "2a18c264",
   "metadata": {},
   "outputs": [
    {
     "name": "stdout",
     "output_type": "stream",
     "text": [
      "S3 bucket created successfully\n"
     ]
    }
   ],
   "source": [
    "#create s3 bucket using code, we can also create manually\n",
    "\n",
    "s3= boto3.resource(\"s3\")\n",
    "try:\n",
    "    if my_region == \"us-east-2\":\n",
    "        s3.create_bucket(Bucket=bucket_name, CreateBucketConfiguration={\"LocationConstraint\": my_region})\n",
    "    print(\"S3 bucket created successfully\")\n",
    "except Exception as e:\n",
    "    print(\"S3 error: \",e)"
   ]
  },
  {
   "cell_type": "code",
   "execution_count": 4,
   "id": "237b3fb3",
   "metadata": {},
   "outputs": [
    {
     "name": "stdout",
     "output_type": "stream",
     "text": [
      "s3://bankapplicationnnn/xgboost-as-a-built-in-algo/output\n"
     ]
    }
   ],
   "source": [
    "# set an output path where the trained model will be saved\n",
    "\n",
    "prefix=\"xgboost-as-a-built-in-algo\"\n",
    "output_path=\"s3://{}/{}/output\".format(bucket_name,prefix)\n",
    "print(output_path)"
   ]
  },
  {
   "cell_type": "markdown",
   "id": "295a6b8f",
   "metadata": {},
   "source": [
    "# Downloading and storing dataset in s3 bucket"
   ]
  },
  {
   "cell_type": "code",
   "execution_count": 8,
   "id": "bf8f4f86",
   "metadata": {},
   "outputs": [
    {
     "name": "stdout",
     "output_type": "stream",
     "text": [
      "Success: downloaded bank_clean.csv.\n",
      "Success: data loaded in dataframe\n"
     ]
    }
   ],
   "source": [
    "import pandas as pd\n",
    "import urllib\n",
    "\n",
    "try:\n",
    "    urllib.request.urlretrieve(\"https://d1.awsstatic.com/tmt/build-train-deploy-machine-learning-model-sagemaker/bank_clean.27f01fbbdf43271788427f3682996ae29ceca05d.csv\", \"bank_clean.csv\")\n",
    "    print(\"Success: downloaded bank_clean.csv.\")\n",
    "except Exception as e:\n",
    "    print(\"Data Error: \",e)\n",
    "\n",
    "try:\n",
    "    model_data=pd.read_csv(\"./bank_clean.csv\", index_col=0)\n",
    "    print(\"Success: data loaded in dataframe\")\n",
    "except Exception as e:\n",
    "    print(\"Data Error: \",e)"
   ]
  },
  {
   "cell_type": "code",
   "execution_count": 9,
   "id": "ff923aa8",
   "metadata": {},
   "outputs": [
    {
     "data": {
      "text/html": [
       "<div>\n",
       "<style scoped>\n",
       "    .dataframe tbody tr th:only-of-type {\n",
       "        vertical-align: middle;\n",
       "    }\n",
       "\n",
       "    .dataframe tbody tr th {\n",
       "        vertical-align: top;\n",
       "    }\n",
       "\n",
       "    .dataframe thead th {\n",
       "        text-align: right;\n",
       "    }\n",
       "</style>\n",
       "<table border=\"1\" class=\"dataframe\">\n",
       "  <thead>\n",
       "    <tr style=\"text-align: right;\">\n",
       "      <th></th>\n",
       "      <th>age</th>\n",
       "      <th>campaign</th>\n",
       "      <th>pdays</th>\n",
       "      <th>previous</th>\n",
       "      <th>no_previous_contact</th>\n",
       "      <th>not_working</th>\n",
       "      <th>job_admin.</th>\n",
       "      <th>job_blue-collar</th>\n",
       "      <th>job_entrepreneur</th>\n",
       "      <th>job_housemaid</th>\n",
       "      <th>...</th>\n",
       "      <th>day_of_week_fri</th>\n",
       "      <th>day_of_week_mon</th>\n",
       "      <th>day_of_week_thu</th>\n",
       "      <th>day_of_week_tue</th>\n",
       "      <th>day_of_week_wed</th>\n",
       "      <th>poutcome_failure</th>\n",
       "      <th>poutcome_nonexistent</th>\n",
       "      <th>poutcome_success</th>\n",
       "      <th>y_no</th>\n",
       "      <th>y_yes</th>\n",
       "    </tr>\n",
       "  </thead>\n",
       "  <tbody>\n",
       "    <tr>\n",
       "      <th>0</th>\n",
       "      <td>56</td>\n",
       "      <td>1</td>\n",
       "      <td>999</td>\n",
       "      <td>0</td>\n",
       "      <td>1</td>\n",
       "      <td>0</td>\n",
       "      <td>0</td>\n",
       "      <td>0</td>\n",
       "      <td>0</td>\n",
       "      <td>1</td>\n",
       "      <td>...</td>\n",
       "      <td>0</td>\n",
       "      <td>1</td>\n",
       "      <td>0</td>\n",
       "      <td>0</td>\n",
       "      <td>0</td>\n",
       "      <td>0</td>\n",
       "      <td>1</td>\n",
       "      <td>0</td>\n",
       "      <td>1</td>\n",
       "      <td>0</td>\n",
       "    </tr>\n",
       "    <tr>\n",
       "      <th>1</th>\n",
       "      <td>57</td>\n",
       "      <td>1</td>\n",
       "      <td>999</td>\n",
       "      <td>0</td>\n",
       "      <td>1</td>\n",
       "      <td>0</td>\n",
       "      <td>0</td>\n",
       "      <td>0</td>\n",
       "      <td>0</td>\n",
       "      <td>0</td>\n",
       "      <td>...</td>\n",
       "      <td>0</td>\n",
       "      <td>1</td>\n",
       "      <td>0</td>\n",
       "      <td>0</td>\n",
       "      <td>0</td>\n",
       "      <td>0</td>\n",
       "      <td>1</td>\n",
       "      <td>0</td>\n",
       "      <td>1</td>\n",
       "      <td>0</td>\n",
       "    </tr>\n",
       "    <tr>\n",
       "      <th>2</th>\n",
       "      <td>37</td>\n",
       "      <td>1</td>\n",
       "      <td>999</td>\n",
       "      <td>0</td>\n",
       "      <td>1</td>\n",
       "      <td>0</td>\n",
       "      <td>0</td>\n",
       "      <td>0</td>\n",
       "      <td>0</td>\n",
       "      <td>0</td>\n",
       "      <td>...</td>\n",
       "      <td>0</td>\n",
       "      <td>1</td>\n",
       "      <td>0</td>\n",
       "      <td>0</td>\n",
       "      <td>0</td>\n",
       "      <td>0</td>\n",
       "      <td>1</td>\n",
       "      <td>0</td>\n",
       "      <td>1</td>\n",
       "      <td>0</td>\n",
       "    </tr>\n",
       "    <tr>\n",
       "      <th>3</th>\n",
       "      <td>40</td>\n",
       "      <td>1</td>\n",
       "      <td>999</td>\n",
       "      <td>0</td>\n",
       "      <td>1</td>\n",
       "      <td>0</td>\n",
       "      <td>1</td>\n",
       "      <td>0</td>\n",
       "      <td>0</td>\n",
       "      <td>0</td>\n",
       "      <td>...</td>\n",
       "      <td>0</td>\n",
       "      <td>1</td>\n",
       "      <td>0</td>\n",
       "      <td>0</td>\n",
       "      <td>0</td>\n",
       "      <td>0</td>\n",
       "      <td>1</td>\n",
       "      <td>0</td>\n",
       "      <td>1</td>\n",
       "      <td>0</td>\n",
       "    </tr>\n",
       "    <tr>\n",
       "      <th>4</th>\n",
       "      <td>56</td>\n",
       "      <td>1</td>\n",
       "      <td>999</td>\n",
       "      <td>0</td>\n",
       "      <td>1</td>\n",
       "      <td>0</td>\n",
       "      <td>0</td>\n",
       "      <td>0</td>\n",
       "      <td>0</td>\n",
       "      <td>0</td>\n",
       "      <td>...</td>\n",
       "      <td>0</td>\n",
       "      <td>1</td>\n",
       "      <td>0</td>\n",
       "      <td>0</td>\n",
       "      <td>0</td>\n",
       "      <td>0</td>\n",
       "      <td>1</td>\n",
       "      <td>0</td>\n",
       "      <td>1</td>\n",
       "      <td>0</td>\n",
       "    </tr>\n",
       "  </tbody>\n",
       "</table>\n",
       "<p>5 rows × 61 columns</p>\n",
       "</div>"
      ],
      "text/plain": [
       "   age  campaign  pdays  previous  no_previous_contact  not_working  \\\n",
       "0   56         1    999         0                    1            0   \n",
       "1   57         1    999         0                    1            0   \n",
       "2   37         1    999         0                    1            0   \n",
       "3   40         1    999         0                    1            0   \n",
       "4   56         1    999         0                    1            0   \n",
       "\n",
       "   job_admin.  job_blue-collar  job_entrepreneur  job_housemaid  ...  \\\n",
       "0           0                0                 0              1  ...   \n",
       "1           0                0                 0              0  ...   \n",
       "2           0                0                 0              0  ...   \n",
       "3           1                0                 0              0  ...   \n",
       "4           0                0                 0              0  ...   \n",
       "\n",
       "   day_of_week_fri  day_of_week_mon  day_of_week_thu  day_of_week_tue  \\\n",
       "0                0                1                0                0   \n",
       "1                0                1                0                0   \n",
       "2                0                1                0                0   \n",
       "3                0                1                0                0   \n",
       "4                0                1                0                0   \n",
       "\n",
       "   day_of_week_wed  poutcome_failure  poutcome_nonexistent  poutcome_success  \\\n",
       "0                0                 0                     1                 0   \n",
       "1                0                 0                     1                 0   \n",
       "2                0                 0                     1                 0   \n",
       "3                0                 0                     1                 0   \n",
       "4                0                 0                     1                 0   \n",
       "\n",
       "   y_no  y_yes  \n",
       "0     1      0  \n",
       "1     1      0  \n",
       "2     1      0  \n",
       "3     1      0  \n",
       "4     1      0  \n",
       "\n",
       "[5 rows x 61 columns]"
      ]
     },
     "execution_count": 9,
     "metadata": {},
     "output_type": "execute_result"
    }
   ],
   "source": [
    "model_data.head()"
   ]
  },
  {
   "cell_type": "code",
   "execution_count": 10,
   "id": "e635f83b",
   "metadata": {},
   "outputs": [
    {
     "data": {
      "text/plain": [
       "(41188, 61)"
      ]
     },
     "execution_count": 10,
     "metadata": {},
     "output_type": "execute_result"
    }
   ],
   "source": [
    "model_data.shape"
   ]
  },
  {
   "cell_type": "code",
   "execution_count": 11,
   "id": "f6276f66",
   "metadata": {},
   "outputs": [],
   "source": [
    "# train test split\n",
    "\n",
    "import numpy as np\n",
    "train_data,test_data=np.split(model_data.sample(frac=1, random_state=1729),[int(0.7*len(model_data))])"
   ]
  },
  {
   "cell_type": "code",
   "execution_count": 13,
   "id": "910e33bd",
   "metadata": {},
   "outputs": [
    {
     "data": {
      "text/plain": [
       "((28831, 61), (12357, 61))"
      ]
     },
     "execution_count": 13,
     "metadata": {},
     "output_type": "execute_result"
    }
   ],
   "source": [
    "train_data.shape, test_data.shape"
   ]
  },
  {
   "cell_type": "code",
   "execution_count": 22,
   "id": "9eb72731",
   "metadata": {},
   "outputs": [],
   "source": [
    "# save data\n",
    "\n",
    "# In sagemaker, dependent variable should be used first\n",
    "\n",
    "import os\n",
    "pd.concat([train_data[\"y_yes\"], train_data.drop([\"y_yes\",\"y_no\"], axis=1)], axis=1).to_csv(\"train.csv\", index=False, header=False)\n",
    "\n",
    "boto3.Session().resource(\"s3\").Bucket(bucket_name).Object(os.path.join(prefix, 'train/train.csv')).upload_file('train.csv')\n",
    "s3_input_train=sagemaker.TrainingInput(s3_data=\"s3://{}/{}/train\".format(bucket_name,prefix), content_type=\"csv\")"
   ]
  },
  {
   "cell_type": "code",
   "execution_count": 25,
   "id": "027b380b",
   "metadata": {},
   "outputs": [
    {
     "data": {
      "text/plain": [
       "<sagemaker.inputs.TrainingInput at 0x7f89aae44a20>"
      ]
     },
     "execution_count": 25,
     "metadata": {},
     "output_type": "execute_result"
    }
   ],
   "source": [
    "s3_input_train"
   ]
  },
  {
   "cell_type": "code",
   "execution_count": 26,
   "id": "0c9f1ea7",
   "metadata": {},
   "outputs": [],
   "source": [
    "import os\n",
    "pd.concat([test_data[\"y_yes\"], test_data.drop([\"y_yes\",\"y_no\"], axis=1)], axis=1).to_csv(\"test.csv\", index=False, header=False)\n",
    "\n",
    "boto3.Session().resource(\"s3\").Bucket(bucket_name).Object(os.path.join(prefix, 'test/test.csv')).upload_file('test.csv')\n",
    "s3_input_test=sagemaker.TrainingInput(s3_data=\"s3://{}/{}/test\".format(bucket_name,prefix), content_type=\"csv\")"
   ]
  },
  {
   "cell_type": "code",
   "execution_count": 27,
   "id": "782e3f23",
   "metadata": {},
   "outputs": [
    {
     "data": {
      "text/plain": [
       "<sagemaker.inputs.TrainingInput at 0x7f89aa953b38>"
      ]
     },
     "execution_count": 27,
     "metadata": {},
     "output_type": "execute_result"
    }
   ],
   "source": [
    "s3_input_test"
   ]
  },
  {
   "cell_type": "markdown",
   "id": "3c3e9483",
   "metadata": {},
   "source": [
    "# Builing pre built xgboost algorithm"
   ]
  },
  {
   "cell_type": "code",
   "execution_count": 28,
   "id": "ae0711d8",
   "metadata": {},
   "outputs": [
    {
     "name": "stderr",
     "output_type": "stream",
     "text": [
      "The method get_image_uri has been renamed in sagemaker>=2.\n",
      "See: https://sagemaker.readthedocs.io/en/stable/v2.html for details.\n"
     ]
    }
   ],
   "source": [
    "# inbuilt alogithm are always in form of container, we have to get those container first\n",
    "\n",
    "container= get_image_uri(boto3.Session().region_name, \"xgboost\", repo_version=\"1.0-1\")"
   ]
  },
  {
   "cell_type": "code",
   "execution_count": 42,
   "id": "7bb89c05",
   "metadata": {},
   "outputs": [],
   "source": [
    "# initialize hyper parameter\n",
    "\n",
    "hyperparameters={\n",
    "    \"max_depth\":\"5\",\n",
    "    \"eta\":\"0.2\",\n",
    "    \"gamma\":\"4\",\n",
    "    \"min_child_weight\":\"6\",\n",
    "    \"num_round\":\"6\",\n",
    "    \"subsample\":\"0.7\",\n",
    "    \"objective\":\"binary:logistic\" # reg:linear , it is regression\n",
    "}"
   ]
  },
  {
   "cell_type": "code",
   "execution_count": 43,
   "id": "d5226009",
   "metadata": {},
   "outputs": [],
   "source": [
    "# create a sagemaker estimator that calls the xgboost container\n",
    "\n",
    "estimator = sagemaker.estimator.Estimator(image_uri=container,\n",
    "                                          hyperparameters=hyperparameters,\n",
    "                                          role=sagemaker.get_execution_role(),  # I am role\n",
    "                                          instance_type = 'ml.m5.2xlarge', # small charge\n",
    "                                          instance_count= 1,\n",
    "                                          volume_size = 5, #5 GB\n",
    "                                          output_path=output_path,\n",
    "                                           use_spot_instances=True, # reduce billing time\n",
    "                                           max_run=300, # reduce billing time\n",
    "                                           max_wait= 600 # reduce billing time\n",
    "                                         )"
   ]
  },
  {
   "cell_type": "code",
   "execution_count": 44,
   "id": "8bd6c501",
   "metadata": {},
   "outputs": [
    {
     "name": "stdout",
     "output_type": "stream",
     "text": [
      "2021-10-22 07:22:39 Starting - Starting the training job...\n",
      "2021-10-22 07:23:03 Starting - Launching requested ML instancesProfilerReport-1634887359: InProgress\n",
      "......\n",
      "2021-10-22 07:24:03 Starting - Preparing the instances for training............\n",
      "2021-10-22 07:26:04 Downloading - Downloading input data\n",
      "2021-10-22 07:26:04 Training - Downloading the training image..\u001b[34mINFO:sagemaker-containers:Imported framework sagemaker_xgboost_container.training\u001b[0m\n",
      "\u001b[34mINFO:sagemaker-containers:Failed to parse hyperparameter objective value binary:logistic to Json.\u001b[0m\n",
      "\u001b[34mReturning the value itself\u001b[0m\n",
      "\u001b[34mINFO:sagemaker-containers:No GPUs detected (normal if no gpus installed)\u001b[0m\n",
      "\u001b[34mINFO:sagemaker_xgboost_container.training:Running XGBoost Sagemaker in algorithm mode\u001b[0m\n",
      "\u001b[34mINFO:root:Determined delimiter of CSV input is ','\u001b[0m\n",
      "\u001b[34mINFO:root:Determined delimiter of CSV input is ','\u001b[0m\n",
      "\u001b[34mINFO:root:Determined delimiter of CSV input is ','\u001b[0m\n",
      "\u001b[34m[07:26:20] 28831x59 matrix with 1701029 entries loaded from /opt/ml/input/data/train?format=csv&label_column=0&delimiter=,\u001b[0m\n",
      "\u001b[34mINFO:root:Determined delimiter of CSV input is ','\u001b[0m\n",
      "\u001b[34m[07:26:20] 12357x59 matrix with 729063 entries loaded from /opt/ml/input/data/validation?format=csv&label_column=0&delimiter=,\u001b[0m\n",
      "\u001b[34mINFO:root:Single node training.\u001b[0m\n",
      "\u001b[34mINFO:root:Train matrix has 28831 rows\u001b[0m\n",
      "\u001b[34mINFO:root:Validation matrix has 12357 rows\u001b[0m\n",
      "\u001b[34m[07:26:20] WARNING: /workspace/src/learner.cc:328: \u001b[0m\n",
      "\u001b[34mParameters: { num_round } might not be used.\n",
      "  This may not be accurate due to some parameters are only used in language bindings but\n",
      "  passed down to XGBoost core.  Or some parameters are not used but slip through this\n",
      "  verification. Please open an issue if you find above cases.\u001b[0m\n",
      "\u001b[34m[0]#011train-error:0.10079#011validation-error:0.10528\u001b[0m\n",
      "\u001b[34m[1]#011train-error:0.09968#011validation-error:0.10456\u001b[0m\n",
      "\u001b[34m[2]#011train-error:0.10017#011validation-error:0.10375\u001b[0m\n",
      "\u001b[34m[3]#011train-error:0.09989#011validation-error:0.10310\u001b[0m\n",
      "\u001b[34m[4]#011train-error:0.09996#011validation-error:0.10286\u001b[0m\n",
      "\u001b[34m[5]#011train-error:0.09906#011validation-error:0.10261\u001b[0m\n",
      "\n",
      "2021-10-22 07:26:32 Uploading - Uploading generated training model\n",
      "2021-10-22 07:26:32 Completed - Training job completed\n",
      "Training seconds: 42\n",
      "Billable seconds: 9\n",
      "Managed Spot Training savings: 78.6%\n"
     ]
    }
   ],
   "source": [
    "# Training: will take some time\n",
    "\n",
    "estimator.fit({\"train\":s3_input_train, \"validation\": s3_input_test})"
   ]
  },
  {
   "cell_type": "markdown",
   "id": "5b3df111",
   "metadata": {},
   "source": [
    "# Deploy the model"
   ]
  },
  {
   "cell_type": "code",
   "execution_count": 45,
   "id": "1a131f24",
   "metadata": {},
   "outputs": [
    {
     "name": "stdout",
     "output_type": "stream",
     "text": [
      "-----!"
     ]
    }
   ],
   "source": [
    "xgb_predictor=estimator.deploy(initial_instance_count=1, instance_type=\"ml.m4.xlarge\")"
   ]
  },
  {
   "cell_type": "markdown",
   "id": "4b805db1",
   "metadata": {},
   "source": [
    "## Prediction of test data"
   ]
  },
  {
   "cell_type": "code",
   "execution_count": 48,
   "id": "af4e9109",
   "metadata": {},
   "outputs": [
    {
     "name": "stderr",
     "output_type": "stream",
     "text": [
      "The csv_serializer has been renamed in sagemaker>=2.\n",
      "See: https://sagemaker.readthedocs.io/en/stable/v2.html for details.\n"
     ]
    },
    {
     "name": "stdout",
     "output_type": "stream",
     "text": [
      "(12357,)\n"
     ]
    }
   ],
   "source": [
    "from sagemaker.predictor import csv_serializer\n",
    "test_data_array=test_data.drop([\"y_no\",\"y_yes\"], axis=1).values # load data into array\n",
    "#xgb_predictor.content_type = 'text/csv' # set the data type for an inference\n",
    "xgb_predictor.serializer= csv_serializer # set the serializer type\n",
    "predictions= xgb_predictor.predict(test_data_array).decode(\"utf-8\") # predict\n",
    "predictions_array = np.fromstring(predictions[1:], sep=\",\")\n",
    "print(predictions_array.shape)"
   ]
  },
  {
   "cell_type": "code",
   "execution_count": 49,
   "id": "7a9c594c",
   "metadata": {},
   "outputs": [
    {
     "data": {
      "text/plain": [
       "array([0.17334226, 0.17334226, 0.17334226, ..., 0.16913538, 0.16913538,\n",
       "       0.16913538])"
      ]
     },
     "execution_count": 49,
     "metadata": {},
     "output_type": "execute_result"
    }
   ],
   "source": [
    "predictions_array"
   ]
  },
  {
   "cell_type": "code",
   "execution_count": 72,
   "id": "8833d6a0",
   "metadata": {},
   "outputs": [
    {
     "name": "stdout",
     "output_type": "stream",
     "text": [
      "Overall Classification rate: 89.73860969490977\n",
      "\n",
      "Predicted      No Purchase    Purchase\n",
      "Observed\n",
      "No Purchase   90.4 (10823)   29.8 (113)\n",
      "Purchase      9.6 (1155)     70.2 (266)\n"
     ]
    }
   ],
   "source": [
    "cm = pd.crosstab(index=test_data[\"y_yes\"], columns=np.round(predictions_array), rownames=[\"Observed\"], colnames=[\"Predicted\"])\n",
    "tn=cm.iloc[0,0]; fn=cm.iloc[1,0]; tp=cm.iloc[1,1]; fp=cm.iloc[0,1]; p=(tp+tn)/(tp+tn+fp+fn)*100\n",
    "print(\"Overall Classification rate: {}\\n\".format(p))\n",
    "print(\"{0:<15}{1:<15}{2:>8}\".format(\"Predicted\", \"No Purchase\", \"Purchase\"))\n",
    "print(\"Observed\")\n",
    "print(\"No Purchase   {} ({})   {} ({})\".format(np.round(tn/(tn+fn)*100,1),tn, np.round(fp/(tp+fp)*100,1),fp))\n",
    "print(\"Purchase      {} ({})     {} ({})\".format(np.round(fn/(tn+fn)*100,1),fn, np.round(tp/(tp+fp)*100,1),tp))"
   ]
  },
  {
   "cell_type": "code",
   "execution_count": 73,
   "id": "a1d59d92",
   "metadata": {},
   "outputs": [],
   "source": [
    "# deleting the endpoint to avoid charges\n"
   ]
  },
  {
   "cell_type": "code",
   "execution_count": 74,
   "id": "6e238a17",
   "metadata": {},
   "outputs": [
    {
     "name": "stderr",
     "output_type": "stream",
     "text": [
      "The endpoint attribute has been renamed in sagemaker>=2.\n",
      "See: https://sagemaker.readthedocs.io/en/stable/v2.html for details.\n"
     ]
    },
    {
     "data": {
      "text/plain": [
       "[{'ResponseMetadata': {'RequestId': 'CAZDQ6SVKWSGMT5Z',\n",
       "   'HostId': '1ALbjXmzEw8BBlL6qUFySuoyrltj4j/MGdy5pkdw2tWVVC1a936i7FHIVXDMiwM4HSiiPlgNKDo=',\n",
       "   'HTTPStatusCode': 200,\n",
       "   'HTTPHeaders': {'x-amz-id-2': '1ALbjXmzEw8BBlL6qUFySuoyrltj4j/MGdy5pkdw2tWVVC1a936i7FHIVXDMiwM4HSiiPlgNKDo=',\n",
       "    'x-amz-request-id': 'CAZDQ6SVKWSGMT5Z',\n",
       "    'date': 'Fri, 22 Oct 2021 08:28:17 GMT',\n",
       "    'content-type': 'application/xml',\n",
       "    'transfer-encoding': 'chunked',\n",
       "    'server': 'AmazonS3',\n",
       "    'connection': 'close'},\n",
       "   'RetryAttempts': 0},\n",
       "  'Deleted': [{'Key': 'xgboost-as-a-built-in-algo/output/sagemaker-xgboost-2021-10-22-07-22-39-598/profiler-output/framework/training_job_end.ts'},\n",
       "   {'Key': 'xgboost-as-a-built-in-algo/output/sagemaker-xgboost-2021-10-22-07-22-39-598/profiler-output/system/incremental/2021102207/1634887500.algo-1.json'},\n",
       "   {'Key': 'xgboost-as-a-built-in-algo/train/train.csv'},\n",
       "   {'Key': 'xgboost-as-a-built-in-algo/output/sagemaker-xgboost-2021-10-22-07-22-39-598/rule-output/ProfilerReport-1634887359/profiler-output/profiler-report.html'},\n",
       "   {'Key': 'xgboost-as-a-built-in-algo/output/sagemaker-xgboost-2021-10-22-07-22-39-598/rule-output/ProfilerReport-1634887359/profiler-output/profiler-reports/OverallSystemUsage.json'},\n",
       "   {'Key': 'xgboost-as-a-built-in-algo/output/sagemaker-xgboost-2021-10-22-07-22-39-598/rule-output/ProfilerReport-1634887359/profiler-output/profiler-reports/Dataloader.json'},\n",
       "   {'Key': 'xgboost-as-a-built-in-algo/output/sagemaker-xgboost-2021-10-22-07-09-23-420/profiler-output/system/incremental/2021102207/1634886660.algo-1.json'},\n",
       "   {'Key': 'xgboost-as-a-built-in-algo/test/test.csv'},\n",
       "   {'Key': 'xgboost-as-a-built-in-algo/output/sagemaker-xgboost-2021-10-22-07-22-39-598/profiler-output/system/incremental/2021102207/1634887560.algo-1.json'},\n",
       "   {'Key': 'xgboost-as-a-built-in-algo/output/sagemaker-xgboost-2021-10-22-07-09-23-420/profiler-output/system/incremental/2021102207/1634886720.algo-1.json'},\n",
       "   {'Key': 'xgboost-as-a-built-in-algo/output/sagemaker-xgboost-2021-10-22-07-22-39-598/rule-output/ProfilerReport-1634887359/profiler-output/profiler-reports/BatchSize.json'},\n",
       "   {'Key': 'xgboost-as-a-built-in-algo/output/sagemaker-xgboost-2021-10-22-07-22-39-598/output/model.tar.gz'},\n",
       "   {'Key': 'xgboost-as-a-built-in-algo/output/sagemaker-xgboost-2021-10-22-07-04-56-872/profiler-output/system/incremental/2021102207/1634886420.algo-1.json'},\n",
       "   {'Key': 'xgboost-as-a-built-in-algo/output/sagemaker-xgboost-2021-10-22-07-22-39-598/profiler-output/system/training_job_end.ts'},\n",
       "   {'Key': 'xgboost-as-a-built-in-algo/output/sagemaker-xgboost-2021-10-22-07-22-39-598/rule-output/ProfilerReport-1634887359/profiler-output/profiler-reports/CPUBottleneck.json'},\n",
       "   {'Key': 'xgboost-as-a-built-in-algo/output/sagemaker-xgboost-2021-10-22-07-22-39-598/rule-output/ProfilerReport-1634887359/profiler-output/profiler-reports/IOBottleneck.json'},\n",
       "   {'Key': 'xgboost-as-a-built-in-algo/output/sagemaker-xgboost-2021-10-22-07-00-01-499/profiler-output/system/incremental/2021102207/1634886120.algo-1.json'},\n",
       "   {'Key': 'xgboost-as-a-built-in-algo/output/sagemaker-xgboost-2021-10-22-07-22-39-598/rule-output/ProfilerReport-1634887359/profiler-output/profiler-reports/OverallFrameworkMetrics.json'},\n",
       "   {'Key': 'xgboost-as-a-built-in-algo/output/sagemaker-xgboost-2021-10-22-07-22-39-598/rule-output/ProfilerReport-1634887359/profiler-output/profiler-reports/GPUMemoryIncrease.json'},\n",
       "   {'Key': 'xgboost-as-a-built-in-algo/output/sagemaker-xgboost-2021-10-22-07-17-38-001/profiler-output/system/incremental/2021102207/1634887200.algo-1.json'},\n",
       "   {'Key': 'xgboost-as-a-built-in-algo/output/sagemaker-xgboost-2021-10-22-07-22-39-598/rule-output/ProfilerReport-1634887359/profiler-output/profiler-reports/StepOutlier.json'},\n",
       "   {'Key': 'xgboost-as-a-built-in-algo/output/sagemaker-xgboost-2021-10-22-07-22-39-598/rule-output/ProfilerReport-1634887359/profiler-output/profiler-reports/MaxInitializationTime.json'},\n",
       "   {'Key': 'xgboost-as-a-built-in-algo/output/sagemaker-xgboost-2021-10-22-07-22-39-598/rule-output/ProfilerReport-1634887359/profiler-output/profiler-report.ipynb'},\n",
       "   {'Key': 'xgboost-as-a-built-in-algo/output/sagemaker-xgboost-2021-10-22-07-22-39-598/rule-output/ProfilerReport-1634887359/profiler-output/profiler-reports/LowGPUUtilization.json'},\n",
       "   {'Key': 'xgboost-as-a-built-in-algo/output/sagemaker-xgboost-2021-10-22-07-22-39-598/rule-output/ProfilerReport-1634887359/profiler-output/profiler-reports/LoadBalancing.json'}]}]"
      ]
     },
     "execution_count": 74,
     "metadata": {},
     "output_type": "execute_result"
    }
   ],
   "source": [
    "sagemaker.Session().delete_endpoint(xgb_predictor.endpoint)\n",
    "bucket_to_delete = boto3.resource(\"s3\").Bucket(bucket_name)\n",
    "bucket_to_delete.objects.all().delete()"
   ]
  },
  {
   "cell_type": "code",
   "execution_count": null,
   "id": "2373ad5a",
   "metadata": {},
   "outputs": [],
   "source": []
  }
 ],
 "metadata": {
  "kernelspec": {
   "display_name": "conda_python3",
   "language": "python",
   "name": "conda_python3"
  },
  "language_info": {
   "codemirror_mode": {
    "name": "ipython",
    "version": 3
   },
   "file_extension": ".py",
   "mimetype": "text/x-python",
   "name": "python",
   "nbconvert_exporter": "python",
   "pygments_lexer": "ipython3",
   "version": "3.6.13"
  }
 },
 "nbformat": 4,
 "nbformat_minor": 5
}
